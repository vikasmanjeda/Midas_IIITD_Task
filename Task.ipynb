{
 "cells": [
  {
   "cell_type": "markdown",
   "metadata": {},
   "source": [
    "# Task 3 :  NLP"
   ]
  },
  {
   "cell_type": "markdown",
   "metadata": {},
   "source": [
    "Assignment "
   ]
  },
  {
   "cell_type": "markdown",
   "metadata": {},
   "source": [
    " "
   ]
  },
  {
   "cell_type": "markdown",
   "metadata": {},
   "source": [
    "First Import required libraries "
   ]
  },
  {
   "cell_type": "code",
   "execution_count": 1,
   "metadata": {},
   "outputs": [],
   "source": [
    "# Data Manipulation\n",
    "import pandas as pd \n",
    "import numpy as np\n",
    "\n",
    "# Data Visualization\n",
    "import matplotlib.pyplot as plt\n",
    "import seaborn as sns\n",
    "\n",
    "# Machine learning \n",
    "from sklearn.model_selection import train_test_split\n",
    "from sklearn.neighbors import KNeighborsClassifier \n",
    "from sklearn.tree import DecisionTreeClassifier\n",
    "from sklearn.naive_bayes import GaussianNB\n",
    "\n",
    "\n",
    "# Warning messages\n",
    "import warnings"
   ]
  },
  {
   "cell_type": "markdown",
   "metadata": {},
   "source": [
    "# Step 1 : Process the data "
   ]
  },
  {
   "cell_type": "markdown",
   "metadata": {},
   "source": [
    "Importing the dataset "
   ]
  },
  {
   "cell_type": "code",
   "execution_count": 2,
   "metadata": {},
   "outputs": [],
   "source": [
    "data = pd.read_excel(\"/home/vikasmanjeda/Downloads/flipkart_com-ecommerce_sample.xlsx\")"
   ]
  },
  {
   "cell_type": "code",
   "execution_count": 3,
   "metadata": {
    "scrolled": true
   },
   "outputs": [
    {
     "data": {
      "text/html": [
       "<div>\n",
       "<style scoped>\n",
       "    .dataframe tbody tr th:only-of-type {\n",
       "        vertical-align: middle;\n",
       "    }\n",
       "\n",
       "    .dataframe tbody tr th {\n",
       "        vertical-align: top;\n",
       "    }\n",
       "\n",
       "    .dataframe thead th {\n",
       "        text-align: right;\n",
       "    }\n",
       "</style>\n",
       "<table border=\"1\" class=\"dataframe\">\n",
       "  <thead>\n",
       "    <tr style=\"text-align: right;\">\n",
       "      <th></th>\n",
       "      <th>uniq_id</th>\n",
       "      <th>crawl_timestamp</th>\n",
       "      <th>product_url</th>\n",
       "      <th>product_name</th>\n",
       "      <th>product_category_tree</th>\n",
       "      <th>pid</th>\n",
       "      <th>retail_price</th>\n",
       "      <th>discounted_price</th>\n",
       "      <th>image</th>\n",
       "      <th>is_FK_Advantage_product</th>\n",
       "      <th>description</th>\n",
       "      <th>product_rating</th>\n",
       "      <th>overall_rating</th>\n",
       "      <th>brand</th>\n",
       "      <th>product_specifications</th>\n",
       "    </tr>\n",
       "  </thead>\n",
       "  <tbody>\n",
       "    <tr>\n",
       "      <th>0</th>\n",
       "      <td>c2d766ca982eca8304150849735ffef9</td>\n",
       "      <td>2016-03-25 22:59:23 +0000</td>\n",
       "      <td>http://www.flipkart.com/alisha-solid-women-s-c...</td>\n",
       "      <td>Alisha Solid Women's Cycling Shorts</td>\n",
       "      <td>[\"Clothing &gt;&gt; Women's Clothing &gt;&gt; Lingerie, Sl...</td>\n",
       "      <td>SRTEH2FF9KEDEFGF</td>\n",
       "      <td>999.0</td>\n",
       "      <td>379.0</td>\n",
       "      <td>[\"http://img5a.flixcart.com/image/short/u/4/a/...</td>\n",
       "      <td>False</td>\n",
       "      <td>Key Features of Alisha Solid Women's Cycling S...</td>\n",
       "      <td>No rating available</td>\n",
       "      <td>No rating available</td>\n",
       "      <td>Alisha</td>\n",
       "      <td>{\"product_specification\"=&gt;[{\"key\"=&gt;\"Number of ...</td>\n",
       "    </tr>\n",
       "    <tr>\n",
       "      <th>1</th>\n",
       "      <td>7f7036a6d550aaa89d34c77bd39a5e48</td>\n",
       "      <td>2016-03-25 22:59:23 +0000</td>\n",
       "      <td>http://www.flipkart.com/fabhomedecor-fabric-do...</td>\n",
       "      <td>FabHomeDecor Fabric Double Sofa Bed</td>\n",
       "      <td>[\"Furniture &gt;&gt; Living Room Furniture &gt;&gt; Sofa B...</td>\n",
       "      <td>SBEEH3QGU7MFYJFY</td>\n",
       "      <td>32157.0</td>\n",
       "      <td>22646.0</td>\n",
       "      <td>[\"http://img6a.flixcart.com/image/sofa-bed/j/f...</td>\n",
       "      <td>False</td>\n",
       "      <td>FabHomeDecor Fabric Double Sofa Bed (Finish Co...</td>\n",
       "      <td>No rating available</td>\n",
       "      <td>No rating available</td>\n",
       "      <td>FabHomeDecor</td>\n",
       "      <td>{\"product_specification\"=&gt;[{\"key\"=&gt;\"Installati...</td>\n",
       "    </tr>\n",
       "    <tr>\n",
       "      <th>2</th>\n",
       "      <td>f449ec65dcbc041b6ae5e6a32717d01b</td>\n",
       "      <td>2016-03-25 22:59:23 +0000</td>\n",
       "      <td>http://www.flipkart.com/aw-bellies/p/itmeh4grg...</td>\n",
       "      <td>AW Bellies</td>\n",
       "      <td>[\"Footwear &gt;&gt; Women's Footwear &gt;&gt; Ballerinas &gt;...</td>\n",
       "      <td>SHOEH4GRSUBJGZXE</td>\n",
       "      <td>999.0</td>\n",
       "      <td>499.0</td>\n",
       "      <td>[\"http://img5a.flixcart.com/image/shoe/7/z/z/r...</td>\n",
       "      <td>False</td>\n",
       "      <td>Key Features of AW Bellies Sandals Wedges Heel...</td>\n",
       "      <td>No rating available</td>\n",
       "      <td>No rating available</td>\n",
       "      <td>AW</td>\n",
       "      <td>{\"product_specification\"=&gt;[{\"key\"=&gt;\"Ideal For\"...</td>\n",
       "    </tr>\n",
       "    <tr>\n",
       "      <th>3</th>\n",
       "      <td>0973b37acd0c664e3de26e97e5571454</td>\n",
       "      <td>2016-03-25 22:59:23 +0000</td>\n",
       "      <td>http://www.flipkart.com/alisha-solid-women-s-c...</td>\n",
       "      <td>Alisha Solid Women's Cycling Shorts</td>\n",
       "      <td>[\"Clothing &gt;&gt; Women's Clothing &gt;&gt; Lingerie, Sl...</td>\n",
       "      <td>SRTEH2F6HUZMQ6SJ</td>\n",
       "      <td>699.0</td>\n",
       "      <td>267.0</td>\n",
       "      <td>[\"http://img5a.flixcart.com/image/short/6/2/h/...</td>\n",
       "      <td>False</td>\n",
       "      <td>Key Features of Alisha Solid Women's Cycling S...</td>\n",
       "      <td>No rating available</td>\n",
       "      <td>No rating available</td>\n",
       "      <td>Alisha</td>\n",
       "      <td>{\"product_specification\"=&gt;[{\"key\"=&gt;\"Number of ...</td>\n",
       "    </tr>\n",
       "    <tr>\n",
       "      <th>4</th>\n",
       "      <td>bc940ea42ee6bef5ac7cea3fb5cfbee7</td>\n",
       "      <td>2016-03-25 22:59:23 +0000</td>\n",
       "      <td>http://www.flipkart.com/sicons-all-purpose-arn...</td>\n",
       "      <td>Sicons All Purpose Arnica Dog Shampoo</td>\n",
       "      <td>[\"Pet Supplies &gt;&gt; Grooming &gt;&gt; Skin &amp; Coat Care...</td>\n",
       "      <td>PSOEH3ZYDMSYARJ5</td>\n",
       "      <td>220.0</td>\n",
       "      <td>210.0</td>\n",
       "      <td>[\"http://img5a.flixcart.com/image/pet-shampoo/...</td>\n",
       "      <td>False</td>\n",
       "      <td>Specifications of Sicons All Purpose Arnica Do...</td>\n",
       "      <td>No rating available</td>\n",
       "      <td>No rating available</td>\n",
       "      <td>Sicons</td>\n",
       "      <td>{\"product_specification\"=&gt;[{\"key\"=&gt;\"Pet Type\",...</td>\n",
       "    </tr>\n",
       "  </tbody>\n",
       "</table>\n",
       "</div>"
      ],
      "text/plain": [
       "                            uniq_id            crawl_timestamp  \\\n",
       "0  c2d766ca982eca8304150849735ffef9  2016-03-25 22:59:23 +0000   \n",
       "1  7f7036a6d550aaa89d34c77bd39a5e48  2016-03-25 22:59:23 +0000   \n",
       "2  f449ec65dcbc041b6ae5e6a32717d01b  2016-03-25 22:59:23 +0000   \n",
       "3  0973b37acd0c664e3de26e97e5571454  2016-03-25 22:59:23 +0000   \n",
       "4  bc940ea42ee6bef5ac7cea3fb5cfbee7  2016-03-25 22:59:23 +0000   \n",
       "\n",
       "                                         product_url  \\\n",
       "0  http://www.flipkart.com/alisha-solid-women-s-c...   \n",
       "1  http://www.flipkart.com/fabhomedecor-fabric-do...   \n",
       "2  http://www.flipkart.com/aw-bellies/p/itmeh4grg...   \n",
       "3  http://www.flipkart.com/alisha-solid-women-s-c...   \n",
       "4  http://www.flipkart.com/sicons-all-purpose-arn...   \n",
       "\n",
       "                            product_name  \\\n",
       "0    Alisha Solid Women's Cycling Shorts   \n",
       "1    FabHomeDecor Fabric Double Sofa Bed   \n",
       "2                             AW Bellies   \n",
       "3    Alisha Solid Women's Cycling Shorts   \n",
       "4  Sicons All Purpose Arnica Dog Shampoo   \n",
       "\n",
       "                               product_category_tree               pid  \\\n",
       "0  [\"Clothing >> Women's Clothing >> Lingerie, Sl...  SRTEH2FF9KEDEFGF   \n",
       "1  [\"Furniture >> Living Room Furniture >> Sofa B...  SBEEH3QGU7MFYJFY   \n",
       "2  [\"Footwear >> Women's Footwear >> Ballerinas >...  SHOEH4GRSUBJGZXE   \n",
       "3  [\"Clothing >> Women's Clothing >> Lingerie, Sl...  SRTEH2F6HUZMQ6SJ   \n",
       "4  [\"Pet Supplies >> Grooming >> Skin & Coat Care...  PSOEH3ZYDMSYARJ5   \n",
       "\n",
       "   retail_price  discounted_price  \\\n",
       "0         999.0             379.0   \n",
       "1       32157.0           22646.0   \n",
       "2         999.0             499.0   \n",
       "3         699.0             267.0   \n",
       "4         220.0             210.0   \n",
       "\n",
       "                                               image  is_FK_Advantage_product  \\\n",
       "0  [\"http://img5a.flixcart.com/image/short/u/4/a/...                    False   \n",
       "1  [\"http://img6a.flixcart.com/image/sofa-bed/j/f...                    False   \n",
       "2  [\"http://img5a.flixcart.com/image/shoe/7/z/z/r...                    False   \n",
       "3  [\"http://img5a.flixcart.com/image/short/6/2/h/...                    False   \n",
       "4  [\"http://img5a.flixcart.com/image/pet-shampoo/...                    False   \n",
       "\n",
       "                                         description       product_rating  \\\n",
       "0  Key Features of Alisha Solid Women's Cycling S...  No rating available   \n",
       "1  FabHomeDecor Fabric Double Sofa Bed (Finish Co...  No rating available   \n",
       "2  Key Features of AW Bellies Sandals Wedges Heel...  No rating available   \n",
       "3  Key Features of Alisha Solid Women's Cycling S...  No rating available   \n",
       "4  Specifications of Sicons All Purpose Arnica Do...  No rating available   \n",
       "\n",
       "        overall_rating         brand  \\\n",
       "0  No rating available        Alisha   \n",
       "1  No rating available  FabHomeDecor   \n",
       "2  No rating available            AW   \n",
       "3  No rating available        Alisha   \n",
       "4  No rating available        Sicons   \n",
       "\n",
       "                              product_specifications  \n",
       "0  {\"product_specification\"=>[{\"key\"=>\"Number of ...  \n",
       "1  {\"product_specification\"=>[{\"key\"=>\"Installati...  \n",
       "2  {\"product_specification\"=>[{\"key\"=>\"Ideal For\"...  \n",
       "3  {\"product_specification\"=>[{\"key\"=>\"Number of ...  \n",
       "4  {\"product_specification\"=>[{\"key\"=>\"Pet Type\",...  "
      ]
     },
     "execution_count": 3,
     "metadata": {},
     "output_type": "execute_result"
    }
   ],
   "source": [
    "# First Five rows of the dataset \n",
    "data.head()"
   ]
  },
  {
   "cell_type": "code",
   "execution_count": 4,
   "metadata": {},
   "outputs": [
    {
     "data": {
      "text/html": [
       "<div>\n",
       "<style scoped>\n",
       "    .dataframe tbody tr th:only-of-type {\n",
       "        vertical-align: middle;\n",
       "    }\n",
       "\n",
       "    .dataframe tbody tr th {\n",
       "        vertical-align: top;\n",
       "    }\n",
       "\n",
       "    .dataframe thead th {\n",
       "        text-align: right;\n",
       "    }\n",
       "</style>\n",
       "<table border=\"1\" class=\"dataframe\">\n",
       "  <thead>\n",
       "    <tr style=\"text-align: right;\">\n",
       "      <th></th>\n",
       "      <th>uniq_id</th>\n",
       "      <th>crawl_timestamp</th>\n",
       "      <th>product_url</th>\n",
       "      <th>product_name</th>\n",
       "      <th>product_category_tree</th>\n",
       "      <th>pid</th>\n",
       "      <th>retail_price</th>\n",
       "      <th>discounted_price</th>\n",
       "      <th>image</th>\n",
       "      <th>is_FK_Advantage_product</th>\n",
       "      <th>description</th>\n",
       "      <th>product_rating</th>\n",
       "      <th>overall_rating</th>\n",
       "      <th>brand</th>\n",
       "      <th>product_specifications</th>\n",
       "    </tr>\n",
       "  </thead>\n",
       "  <tbody>\n",
       "    <tr>\n",
       "      <th>19995</th>\n",
       "      <td>7179d2f6c4ad50a17d014ca1d2815156</td>\n",
       "      <td>2015-12-01 10:15:43 +0000</td>\n",
       "      <td>http://www.flipkart.com/walldesign-small-vinyl...</td>\n",
       "      <td>WallDesign Small Vinyl Sticker</td>\n",
       "      <td>[\"Baby Care &gt;&gt; Baby &amp; Kids Gifts &gt;&gt; Stickers &gt;...</td>\n",
       "      <td>STIE7KFJAKSTDY9G</td>\n",
       "      <td>1500.0</td>\n",
       "      <td>730.0</td>\n",
       "      <td>[\"http://img6a.flixcart.com/image/wall-decorat...</td>\n",
       "      <td>False</td>\n",
       "      <td>Buy WallDesign Small Vinyl Sticker for Rs.730 ...</td>\n",
       "      <td>No rating available</td>\n",
       "      <td>No rating available</td>\n",
       "      <td>WallDesign</td>\n",
       "      <td>{\"product_specification\"=&gt;[{\"key\"=&gt;\"Number of ...</td>\n",
       "    </tr>\n",
       "    <tr>\n",
       "      <th>19996</th>\n",
       "      <td>71ac419198359d37b8fe5e3fffdfee09</td>\n",
       "      <td>2015-12-01 10:15:43 +0000</td>\n",
       "      <td>http://www.flipkart.com/wallmantra-large-vinyl...</td>\n",
       "      <td>Wallmantra Large Vinyl Stickers Sticker</td>\n",
       "      <td>[\"Baby Care &gt;&gt; Baby &amp; Kids Gifts &gt;&gt; Stickers &gt;...</td>\n",
       "      <td>STIE9F5URNQGJCGH</td>\n",
       "      <td>1429.0</td>\n",
       "      <td>1143.0</td>\n",
       "      <td>[\"http://img6a.flixcart.com/image/sticker/z/g/...</td>\n",
       "      <td>False</td>\n",
       "      <td>Buy Wallmantra Large Vinyl Stickers Sticker fo...</td>\n",
       "      <td>No rating available</td>\n",
       "      <td>No rating available</td>\n",
       "      <td>Wallmantra</td>\n",
       "      <td>{\"product_specification\"=&gt;[{\"key\"=&gt;\"Number of ...</td>\n",
       "    </tr>\n",
       "    <tr>\n",
       "      <th>19997</th>\n",
       "      <td>93e9d343837400ce0d7980874ece471c</td>\n",
       "      <td>2015-12-01 10:15:43 +0000</td>\n",
       "      <td>http://www.flipkart.com/elite-collection-mediu...</td>\n",
       "      <td>Elite Collection Medium Acrylic Sticker</td>\n",
       "      <td>[\"Baby Care &gt;&gt; Baby &amp; Kids Gifts &gt;&gt; Stickers &gt;...</td>\n",
       "      <td>STIE7VAYDKQZEBSD</td>\n",
       "      <td>1299.0</td>\n",
       "      <td>999.0</td>\n",
       "      <td>[\"http://img5a.flixcart.com/image/sticker/b/s/...</td>\n",
       "      <td>False</td>\n",
       "      <td>Buy Elite Collection Medium Acrylic Sticker fo...</td>\n",
       "      <td>No rating available</td>\n",
       "      <td>No rating available</td>\n",
       "      <td>Elite Collection</td>\n",
       "      <td>{\"product_specification\"=&gt;[{\"key\"=&gt;\"Number of ...</td>\n",
       "    </tr>\n",
       "    <tr>\n",
       "      <th>19998</th>\n",
       "      <td>669e79b8fa5d9ae020841c0c97d5e935</td>\n",
       "      <td>2015-12-01 10:15:43 +0000</td>\n",
       "      <td>http://www.flipkart.com/elite-collection-mediu...</td>\n",
       "      <td>Elite Collection Medium Acrylic Sticker</td>\n",
       "      <td>[\"Baby Care &gt;&gt; Baby &amp; Kids Gifts &gt;&gt; Stickers &gt;...</td>\n",
       "      <td>STIE8YSVEPPCZ42Y</td>\n",
       "      <td>1499.0</td>\n",
       "      <td>1199.0</td>\n",
       "      <td>[\"http://img5a.flixcart.com/image/sticker/4/2/...</td>\n",
       "      <td>False</td>\n",
       "      <td>Buy Elite Collection Medium Acrylic Sticker fo...</td>\n",
       "      <td>No rating available</td>\n",
       "      <td>No rating available</td>\n",
       "      <td>Elite Collection</td>\n",
       "      <td>{\"product_specification\"=&gt;[{\"key\"=&gt;\"Number of ...</td>\n",
       "    </tr>\n",
       "    <tr>\n",
       "      <th>19999</th>\n",
       "      <td>cb4fa87a874f715fff567f7b7b3be79c</td>\n",
       "      <td>2015-12-01 10:15:43 +0000</td>\n",
       "      <td>http://www.flipkart.com/elite-collection-mediu...</td>\n",
       "      <td>Elite Collection Medium Acrylic Sticker</td>\n",
       "      <td>[\"Baby Care &gt;&gt; Baby &amp; Kids Gifts &gt;&gt; Stickers &gt;...</td>\n",
       "      <td>STIE88KN9ZDSGZKY</td>\n",
       "      <td>1499.0</td>\n",
       "      <td>999.0</td>\n",
       "      <td>[\"http://img6a.flixcart.com/image/sticker/z/k/...</td>\n",
       "      <td>False</td>\n",
       "      <td>Buy Elite Collection Medium Acrylic Sticker fo...</td>\n",
       "      <td>No rating available</td>\n",
       "      <td>No rating available</td>\n",
       "      <td>Elite Collection</td>\n",
       "      <td>{\"product_specification\"=&gt;[{\"key\"=&gt;\"Number of ...</td>\n",
       "    </tr>\n",
       "  </tbody>\n",
       "</table>\n",
       "</div>"
      ],
      "text/plain": [
       "                                uniq_id            crawl_timestamp  \\\n",
       "19995  7179d2f6c4ad50a17d014ca1d2815156  2015-12-01 10:15:43 +0000   \n",
       "19996  71ac419198359d37b8fe5e3fffdfee09  2015-12-01 10:15:43 +0000   \n",
       "19997  93e9d343837400ce0d7980874ece471c  2015-12-01 10:15:43 +0000   \n",
       "19998  669e79b8fa5d9ae020841c0c97d5e935  2015-12-01 10:15:43 +0000   \n",
       "19999  cb4fa87a874f715fff567f7b7b3be79c  2015-12-01 10:15:43 +0000   \n",
       "\n",
       "                                             product_url  \\\n",
       "19995  http://www.flipkart.com/walldesign-small-vinyl...   \n",
       "19996  http://www.flipkart.com/wallmantra-large-vinyl...   \n",
       "19997  http://www.flipkart.com/elite-collection-mediu...   \n",
       "19998  http://www.flipkart.com/elite-collection-mediu...   \n",
       "19999  http://www.flipkart.com/elite-collection-mediu...   \n",
       "\n",
       "                                  product_name  \\\n",
       "19995           WallDesign Small Vinyl Sticker   \n",
       "19996  Wallmantra Large Vinyl Stickers Sticker   \n",
       "19997  Elite Collection Medium Acrylic Sticker   \n",
       "19998  Elite Collection Medium Acrylic Sticker   \n",
       "19999  Elite Collection Medium Acrylic Sticker   \n",
       "\n",
       "                                   product_category_tree               pid  \\\n",
       "19995  [\"Baby Care >> Baby & Kids Gifts >> Stickers >...  STIE7KFJAKSTDY9G   \n",
       "19996  [\"Baby Care >> Baby & Kids Gifts >> Stickers >...  STIE9F5URNQGJCGH   \n",
       "19997  [\"Baby Care >> Baby & Kids Gifts >> Stickers >...  STIE7VAYDKQZEBSD   \n",
       "19998  [\"Baby Care >> Baby & Kids Gifts >> Stickers >...  STIE8YSVEPPCZ42Y   \n",
       "19999  [\"Baby Care >> Baby & Kids Gifts >> Stickers >...  STIE88KN9ZDSGZKY   \n",
       "\n",
       "       retail_price  discounted_price  \\\n",
       "19995        1500.0             730.0   \n",
       "19996        1429.0            1143.0   \n",
       "19997        1299.0             999.0   \n",
       "19998        1499.0            1199.0   \n",
       "19999        1499.0             999.0   \n",
       "\n",
       "                                                   image  \\\n",
       "19995  [\"http://img6a.flixcart.com/image/wall-decorat...   \n",
       "19996  [\"http://img6a.flixcart.com/image/sticker/z/g/...   \n",
       "19997  [\"http://img5a.flixcart.com/image/sticker/b/s/...   \n",
       "19998  [\"http://img5a.flixcart.com/image/sticker/4/2/...   \n",
       "19999  [\"http://img6a.flixcart.com/image/sticker/z/k/...   \n",
       "\n",
       "       is_FK_Advantage_product  \\\n",
       "19995                    False   \n",
       "19996                    False   \n",
       "19997                    False   \n",
       "19998                    False   \n",
       "19999                    False   \n",
       "\n",
       "                                             description       product_rating  \\\n",
       "19995  Buy WallDesign Small Vinyl Sticker for Rs.730 ...  No rating available   \n",
       "19996  Buy Wallmantra Large Vinyl Stickers Sticker fo...  No rating available   \n",
       "19997  Buy Elite Collection Medium Acrylic Sticker fo...  No rating available   \n",
       "19998  Buy Elite Collection Medium Acrylic Sticker fo...  No rating available   \n",
       "19999  Buy Elite Collection Medium Acrylic Sticker fo...  No rating available   \n",
       "\n",
       "            overall_rating             brand  \\\n",
       "19995  No rating available        WallDesign   \n",
       "19996  No rating available        Wallmantra   \n",
       "19997  No rating available  Elite Collection   \n",
       "19998  No rating available  Elite Collection   \n",
       "19999  No rating available  Elite Collection   \n",
       "\n",
       "                                  product_specifications  \n",
       "19995  {\"product_specification\"=>[{\"key\"=>\"Number of ...  \n",
       "19996  {\"product_specification\"=>[{\"key\"=>\"Number of ...  \n",
       "19997  {\"product_specification\"=>[{\"key\"=>\"Number of ...  \n",
       "19998  {\"product_specification\"=>[{\"key\"=>\"Number of ...  \n",
       "19999  {\"product_specification\"=>[{\"key\"=>\"Number of ...  "
      ]
     },
     "execution_count": 4,
     "metadata": {},
     "output_type": "execute_result"
    }
   ],
   "source": [
    "# Last five rows of the dataset\n",
    "data.tail()"
   ]
  },
  {
   "cell_type": "code",
   "execution_count": 5,
   "metadata": {},
   "outputs": [
    {
     "data": {
      "text/plain": [
       "(20000, 15)"
      ]
     },
     "execution_count": 5,
     "metadata": {},
     "output_type": "execute_result"
    }
   ],
   "source": [
    "# Check the Shape of dataset\n",
    "data.shape"
   ]
  },
  {
   "cell_type": "code",
   "execution_count": 6,
   "metadata": {},
   "outputs": [
    {
     "data": {
      "text/plain": [
       "Index(['uniq_id', 'crawl_timestamp', 'product_url', 'product_name',\n",
       "       'product_category_tree', 'pid', 'retail_price', 'discounted_price',\n",
       "       'image', 'is_FK_Advantage_product', 'description', 'product_rating',\n",
       "       'overall_rating', 'brand', 'product_specifications'],\n",
       "      dtype='object')"
      ]
     },
     "execution_count": 6,
     "metadata": {},
     "output_type": "execute_result"
    }
   ],
   "source": [
    "# Checking the Columns name in the dataset \n",
    "data.columns"
   ]
  },
  {
   "cell_type": "code",
   "execution_count": 7,
   "metadata": {},
   "outputs": [
    {
     "name": "stdout",
     "output_type": "stream",
     "text": [
      "<class 'pandas.core.frame.DataFrame'>\n",
      "RangeIndex: 20000 entries, 0 to 19999\n",
      "Data columns (total 15 columns):\n",
      " #   Column                   Non-Null Count  Dtype  \n",
      "---  ------                   --------------  -----  \n",
      " 0   uniq_id                  20000 non-null  object \n",
      " 1   crawl_timestamp          20000 non-null  object \n",
      " 2   product_url              20000 non-null  object \n",
      " 3   product_name             20000 non-null  object \n",
      " 4   product_category_tree    20000 non-null  object \n",
      " 5   pid                      20000 non-null  object \n",
      " 6   retail_price             19922 non-null  float64\n",
      " 7   discounted_price         19922 non-null  float64\n",
      " 8   image                    19997 non-null  object \n",
      " 9   is_FK_Advantage_product  20000 non-null  bool   \n",
      " 10  description              19998 non-null  object \n",
      " 11  product_rating           20000 non-null  object \n",
      " 12  overall_rating           20000 non-null  object \n",
      " 13  brand                    14136 non-null  object \n",
      " 14  product_specifications   19986 non-null  object \n",
      "dtypes: bool(1), float64(2), object(12)\n",
      "memory usage: 2.2+ MB\n"
     ]
    }
   ],
   "source": [
    "# Checking the Summary of the dataset \n",
    "data.info()"
   ]
  },
  {
   "cell_type": "code",
   "execution_count": 8,
   "metadata": {},
   "outputs": [
    {
     "data": {
      "text/html": [
       "<div>\n",
       "<style scoped>\n",
       "    .dataframe tbody tr th:only-of-type {\n",
       "        vertical-align: middle;\n",
       "    }\n",
       "\n",
       "    .dataframe tbody tr th {\n",
       "        vertical-align: top;\n",
       "    }\n",
       "\n",
       "    .dataframe thead th {\n",
       "        text-align: right;\n",
       "    }\n",
       "</style>\n",
       "<table border=\"1\" class=\"dataframe\">\n",
       "  <thead>\n",
       "    <tr style=\"text-align: right;\">\n",
       "      <th></th>\n",
       "      <th>retail_price</th>\n",
       "      <th>discounted_price</th>\n",
       "    </tr>\n",
       "  </thead>\n",
       "  <tbody>\n",
       "    <tr>\n",
       "      <th>count</th>\n",
       "      <td>19922.000000</td>\n",
       "      <td>19922.000000</td>\n",
       "    </tr>\n",
       "    <tr>\n",
       "      <th>mean</th>\n",
       "      <td>2979.206104</td>\n",
       "      <td>1973.401767</td>\n",
       "    </tr>\n",
       "    <tr>\n",
       "      <th>std</th>\n",
       "      <td>9009.639341</td>\n",
       "      <td>7333.586040</td>\n",
       "    </tr>\n",
       "    <tr>\n",
       "      <th>min</th>\n",
       "      <td>35.000000</td>\n",
       "      <td>35.000000</td>\n",
       "    </tr>\n",
       "    <tr>\n",
       "      <th>25%</th>\n",
       "      <td>666.000000</td>\n",
       "      <td>350.000000</td>\n",
       "    </tr>\n",
       "    <tr>\n",
       "      <th>50%</th>\n",
       "      <td>1040.000000</td>\n",
       "      <td>550.000000</td>\n",
       "    </tr>\n",
       "    <tr>\n",
       "      <th>75%</th>\n",
       "      <td>1999.000000</td>\n",
       "      <td>999.000000</td>\n",
       "    </tr>\n",
       "    <tr>\n",
       "      <th>max</th>\n",
       "      <td>571230.000000</td>\n",
       "      <td>571230.000000</td>\n",
       "    </tr>\n",
       "  </tbody>\n",
       "</table>\n",
       "</div>"
      ],
      "text/plain": [
       "        retail_price  discounted_price\n",
       "count   19922.000000      19922.000000\n",
       "mean     2979.206104       1973.401767\n",
       "std      9009.639341       7333.586040\n",
       "min        35.000000         35.000000\n",
       "25%       666.000000        350.000000\n",
       "50%      1040.000000        550.000000\n",
       "75%      1999.000000        999.000000\n",
       "max    571230.000000     571230.000000"
      ]
     },
     "execution_count": 8,
     "metadata": {},
     "output_type": "execute_result"
    }
   ],
   "source": [
    "# Statistics summary \n",
    "data.describe()"
   ]
  },
  {
   "cell_type": "markdown",
   "metadata": {},
   "source": [
    "# Step 2 : Data cleaning "
   ]
  },
  {
   "cell_type": "code",
   "execution_count": 9,
   "metadata": {
    "scrolled": true
   },
   "outputs": [
    {
     "data": {
      "text/plain": [
       "uniq_id                       0\n",
       "crawl_timestamp               0\n",
       "product_url                   0\n",
       "product_name                  0\n",
       "product_category_tree         0\n",
       "pid                           0\n",
       "retail_price                 78\n",
       "discounted_price             78\n",
       "image                         3\n",
       "is_FK_Advantage_product       0\n",
       "description                   2\n",
       "product_rating                0\n",
       "overall_rating                0\n",
       "brand                      5864\n",
       "product_specifications       14\n",
       "dtype: int64"
      ]
     },
     "execution_count": 9,
     "metadata": {},
     "output_type": "execute_result"
    }
   ],
   "source": [
    "# Checking the null value in data \n",
    "data.isnull().sum()"
   ]
  },
  {
   "cell_type": "markdown",
   "metadata": {},
   "source": [
    "From above table show that:\n",
    "1. There are 5864 items that do not have a brand name.\n",
    "2. There are 14 items that do not have a product specification.\n",
    "3. There are 2 items that do not have a description.\n",
    "4. There are 78 items that do not have a retail and discounted price.\n"
   ]
  },
  {
   "cell_type": "markdown",
   "metadata": {},
   "source": [
    " In brand, there are 5864 values missing. Instead of dropna method we'll use fillna method to replace missing values because it contain 30% of data & if we use dropna method than it remove 5864(30% of data) rows that contain a NaN value."
   ]
  },
  {
   "cell_type": "code",
   "execution_count": 10,
   "metadata": {},
   "outputs": [],
   "source": [
    "data['brand'].fillna(value='missing', inplace=True)"
   ]
  },
  {
   "cell_type": "code",
   "execution_count": 11,
   "metadata": {},
   "outputs": [
    {
     "data": {
      "text/plain": [
       "0"
      ]
     },
     "execution_count": 11,
     "metadata": {},
     "output_type": "execute_result"
    }
   ],
   "source": [
    "data['brand'].isna().sum()"
   ]
  },
  {
   "cell_type": "markdown",
   "metadata": {},
   "source": [
    "Now we drop Na value present in our dataset.It is present in very small number we use dropna method to remove the na values "
   ]
  },
  {
   "cell_type": "code",
   "execution_count": 12,
   "metadata": {},
   "outputs": [],
   "source": [
    "data = data.dropna()"
   ]
  },
  {
   "cell_type": "code",
   "execution_count": 13,
   "metadata": {},
   "outputs": [
    {
     "data": {
      "text/plain": [
       "uniq_id                    0\n",
       "crawl_timestamp            0\n",
       "product_url                0\n",
       "product_name               0\n",
       "product_category_tree      0\n",
       "pid                        0\n",
       "retail_price               0\n",
       "discounted_price           0\n",
       "image                      0\n",
       "is_FK_Advantage_product    0\n",
       "description                0\n",
       "product_rating             0\n",
       "overall_rating             0\n",
       "brand                      0\n",
       "product_specifications     0\n",
       "dtype: int64"
      ]
     },
     "execution_count": 13,
     "metadata": {},
     "output_type": "execute_result"
    }
   ],
   "source": [
    "data.isnull().sum()"
   ]
  },
  {
   "cell_type": "code",
   "execution_count": 14,
   "metadata": {},
   "outputs": [
    {
     "data": {
      "text/plain": [
       "0    2016-03-25 22:59:23 +0000\n",
       "1    2016-03-25 22:59:23 +0000\n",
       "2    2016-03-25 22:59:23 +0000\n",
       "3    2016-03-25 22:59:23 +0000\n",
       "4    2016-03-25 22:59:23 +0000\n",
       "Name: crawl_timestamp, dtype: object"
      ]
     },
     "execution_count": 14,
     "metadata": {},
     "output_type": "execute_result"
    }
   ],
   "source": [
    "# Checking the date_time format \n",
    "\n",
    "data[\"crawl_timestamp\"].head(5)"
   ]
  },
  {
   "cell_type": "markdown",
   "metadata": {},
   "source": [
    "crawl_timestamp is not in right format. So, crwal_timestamp split into Date, year."
   ]
  },
  {
   "cell_type": "markdown",
   "metadata": {},
   "source": [
    "It is in object format. So, First it convert into datetime format by the help of pandas datetime function."
   ]
  },
  {
   "cell_type": "code",
   "execution_count": 15,
   "metadata": {},
   "outputs": [
    {
     "data": {
      "text/plain": [
       "0   2016-03-25 22:59:23+00:00\n",
       "1   2016-03-25 22:59:23+00:00\n",
       "2   2016-03-25 22:59:23+00:00\n",
       "3   2016-03-25 22:59:23+00:00\n",
       "4   2016-03-25 22:59:23+00:00\n",
       "Name: crawl_timestamp, dtype: datetime64[ns, UTC]"
      ]
     },
     "execution_count": 15,
     "metadata": {},
     "output_type": "execute_result"
    }
   ],
   "source": [
    "data[\"crawl_timestamp\"] = pd.to_datetime(data[\"crawl_timestamp\"])\n",
    "data[\"crawl_timestamp\"].head()"
   ]
  },
  {
   "cell_type": "code",
   "execution_count": 16,
   "metadata": {},
   "outputs": [
    {
     "data": {
      "text/plain": [
       "0        2016-03-25\n",
       "1        2016-03-25\n",
       "2        2016-03-25\n",
       "3        2016-03-25\n",
       "4        2016-03-25\n",
       "            ...    \n",
       "19995    2015-12-01\n",
       "19996    2015-12-01\n",
       "19997    2015-12-01\n",
       "19998    2015-12-01\n",
       "19999    2015-12-01\n",
       "Name: date, Length: 19905, dtype: object"
      ]
     },
     "execution_count": 16,
     "metadata": {},
     "output_type": "execute_result"
    }
   ],
   "source": [
    "# Date \n",
    "data[\"date\"] = data[\"crawl_timestamp\"].dt.date\n",
    "data[\"date\"]"
   ]
  },
  {
   "cell_type": "code",
   "execution_count": 17,
   "metadata": {},
   "outputs": [],
   "source": [
    "# Year\n",
    "data[\"year\"] = data[\"crawl_timestamp\"].dt.year\n",
    "\n",
    "# For ignoring the warnings message, use filterwarnings function.\n",
    "warnings.filterwarnings(\"ignore\")"
   ]
  },
  {
   "cell_type": "markdown",
   "metadata": {},
   "source": [
    "Now, Date, year columns add in the dataset"
   ]
  },
  {
   "cell_type": "markdown",
   "metadata": {},
   "source": [
    "\n"
   ]
  },
  {
   "cell_type": "markdown",
   "metadata": {},
   "source": [
    "In our data, Product category is not in right format. So, first we cleaning it. Separate the product category tree into sub-category like primary ,secondary,third etc. by the help of str.split() fucntion to split the column into multply columns."
   ]
  },
  {
   "cell_type": "code",
   "execution_count": 18,
   "metadata": {},
   "outputs": [],
   "source": [
    "data[['Primary_category','Secondary_category','Third_category','fourth','fivth','sixth','seventh','eight']] = data[\"product_category_tree\"].str.split('>>', expand= True)\n"
   ]
  },
  {
   "cell_type": "code",
   "execution_count": 19,
   "metadata": {},
   "outputs": [
    {
     "data": {
      "text/html": [
       "<div>\n",
       "<style scoped>\n",
       "    .dataframe tbody tr th:only-of-type {\n",
       "        vertical-align: middle;\n",
       "    }\n",
       "\n",
       "    .dataframe tbody tr th {\n",
       "        vertical-align: top;\n",
       "    }\n",
       "\n",
       "    .dataframe thead th {\n",
       "        text-align: right;\n",
       "    }\n",
       "</style>\n",
       "<table border=\"1\" class=\"dataframe\">\n",
       "  <thead>\n",
       "    <tr style=\"text-align: right;\">\n",
       "      <th></th>\n",
       "      <th>uniq_id</th>\n",
       "      <th>crawl_timestamp</th>\n",
       "      <th>product_url</th>\n",
       "      <th>product_name</th>\n",
       "      <th>product_category_tree</th>\n",
       "      <th>pid</th>\n",
       "      <th>retail_price</th>\n",
       "      <th>discounted_price</th>\n",
       "      <th>image</th>\n",
       "      <th>is_FK_Advantage_product</th>\n",
       "      <th>...</th>\n",
       "      <th>date</th>\n",
       "      <th>year</th>\n",
       "      <th>Primary_category</th>\n",
       "      <th>Secondary_category</th>\n",
       "      <th>Third_category</th>\n",
       "      <th>fourth</th>\n",
       "      <th>fivth</th>\n",
       "      <th>sixth</th>\n",
       "      <th>seventh</th>\n",
       "      <th>eight</th>\n",
       "    </tr>\n",
       "  </thead>\n",
       "  <tbody>\n",
       "    <tr>\n",
       "      <th>0</th>\n",
       "      <td>c2d766ca982eca8304150849735ffef9</td>\n",
       "      <td>2016-03-25 22:59:23+00:00</td>\n",
       "      <td>http://www.flipkart.com/alisha-solid-women-s-c...</td>\n",
       "      <td>Alisha Solid Women's Cycling Shorts</td>\n",
       "      <td>[\"Clothing &gt;&gt; Women's Clothing &gt;&gt; Lingerie, Sl...</td>\n",
       "      <td>SRTEH2FF9KEDEFGF</td>\n",
       "      <td>999.0</td>\n",
       "      <td>379.0</td>\n",
       "      <td>[\"http://img5a.flixcart.com/image/short/u/4/a/...</td>\n",
       "      <td>False</td>\n",
       "      <td>...</td>\n",
       "      <td>2016-03-25</td>\n",
       "      <td>2016</td>\n",
       "      <td>[\"Clothing</td>\n",
       "      <td>Women's Clothing</td>\n",
       "      <td>Lingerie, Sleep &amp; Swimwear</td>\n",
       "      <td>Shorts</td>\n",
       "      <td>Alisha Shorts</td>\n",
       "      <td>Alisha Solid Women's Cycling Shorts\"]</td>\n",
       "      <td>None</td>\n",
       "      <td>None</td>\n",
       "    </tr>\n",
       "    <tr>\n",
       "      <th>1</th>\n",
       "      <td>7f7036a6d550aaa89d34c77bd39a5e48</td>\n",
       "      <td>2016-03-25 22:59:23+00:00</td>\n",
       "      <td>http://www.flipkart.com/fabhomedecor-fabric-do...</td>\n",
       "      <td>FabHomeDecor Fabric Double Sofa Bed</td>\n",
       "      <td>[\"Furniture &gt;&gt; Living Room Furniture &gt;&gt; Sofa B...</td>\n",
       "      <td>SBEEH3QGU7MFYJFY</td>\n",
       "      <td>32157.0</td>\n",
       "      <td>22646.0</td>\n",
       "      <td>[\"http://img6a.flixcart.com/image/sofa-bed/j/f...</td>\n",
       "      <td>False</td>\n",
       "      <td>...</td>\n",
       "      <td>2016-03-25</td>\n",
       "      <td>2016</td>\n",
       "      <td>[\"Furniture</td>\n",
       "      <td>Living Room Furniture</td>\n",
       "      <td>Sofa Beds &amp; Futons</td>\n",
       "      <td>FabHomeDecor Fabric Double Sofa Bed (Finish C...</td>\n",
       "      <td>None</td>\n",
       "      <td>None</td>\n",
       "      <td>None</td>\n",
       "      <td>None</td>\n",
       "    </tr>\n",
       "    <tr>\n",
       "      <th>2</th>\n",
       "      <td>f449ec65dcbc041b6ae5e6a32717d01b</td>\n",
       "      <td>2016-03-25 22:59:23+00:00</td>\n",
       "      <td>http://www.flipkart.com/aw-bellies/p/itmeh4grg...</td>\n",
       "      <td>AW Bellies</td>\n",
       "      <td>[\"Footwear &gt;&gt; Women's Footwear &gt;&gt; Ballerinas &gt;...</td>\n",
       "      <td>SHOEH4GRSUBJGZXE</td>\n",
       "      <td>999.0</td>\n",
       "      <td>499.0</td>\n",
       "      <td>[\"http://img5a.flixcart.com/image/shoe/7/z/z/r...</td>\n",
       "      <td>False</td>\n",
       "      <td>...</td>\n",
       "      <td>2016-03-25</td>\n",
       "      <td>2016</td>\n",
       "      <td>[\"Footwear</td>\n",
       "      <td>Women's Footwear</td>\n",
       "      <td>Ballerinas</td>\n",
       "      <td>AW Bellies\"]</td>\n",
       "      <td>None</td>\n",
       "      <td>None</td>\n",
       "      <td>None</td>\n",
       "      <td>None</td>\n",
       "    </tr>\n",
       "    <tr>\n",
       "      <th>3</th>\n",
       "      <td>0973b37acd0c664e3de26e97e5571454</td>\n",
       "      <td>2016-03-25 22:59:23+00:00</td>\n",
       "      <td>http://www.flipkart.com/alisha-solid-women-s-c...</td>\n",
       "      <td>Alisha Solid Women's Cycling Shorts</td>\n",
       "      <td>[\"Clothing &gt;&gt; Women's Clothing &gt;&gt; Lingerie, Sl...</td>\n",
       "      <td>SRTEH2F6HUZMQ6SJ</td>\n",
       "      <td>699.0</td>\n",
       "      <td>267.0</td>\n",
       "      <td>[\"http://img5a.flixcart.com/image/short/6/2/h/...</td>\n",
       "      <td>False</td>\n",
       "      <td>...</td>\n",
       "      <td>2016-03-25</td>\n",
       "      <td>2016</td>\n",
       "      <td>[\"Clothing</td>\n",
       "      <td>Women's Clothing</td>\n",
       "      <td>Lingerie, Sleep &amp; Swimwear</td>\n",
       "      <td>Shorts</td>\n",
       "      <td>Alisha Shorts</td>\n",
       "      <td>Alisha Solid Women's Cycling Shorts\"]</td>\n",
       "      <td>None</td>\n",
       "      <td>None</td>\n",
       "    </tr>\n",
       "    <tr>\n",
       "      <th>4</th>\n",
       "      <td>bc940ea42ee6bef5ac7cea3fb5cfbee7</td>\n",
       "      <td>2016-03-25 22:59:23+00:00</td>\n",
       "      <td>http://www.flipkart.com/sicons-all-purpose-arn...</td>\n",
       "      <td>Sicons All Purpose Arnica Dog Shampoo</td>\n",
       "      <td>[\"Pet Supplies &gt;&gt; Grooming &gt;&gt; Skin &amp; Coat Care...</td>\n",
       "      <td>PSOEH3ZYDMSYARJ5</td>\n",
       "      <td>220.0</td>\n",
       "      <td>210.0</td>\n",
       "      <td>[\"http://img5a.flixcart.com/image/pet-shampoo/...</td>\n",
       "      <td>False</td>\n",
       "      <td>...</td>\n",
       "      <td>2016-03-25</td>\n",
       "      <td>2016</td>\n",
       "      <td>[\"Pet Supplies</td>\n",
       "      <td>Grooming</td>\n",
       "      <td>Skin &amp; Coat Care</td>\n",
       "      <td>Shampoo</td>\n",
       "      <td>Sicons All Purpose Arnica Dog Shampoo (500 ml)\"]</td>\n",
       "      <td>None</td>\n",
       "      <td>None</td>\n",
       "      <td>None</td>\n",
       "    </tr>\n",
       "  </tbody>\n",
       "</table>\n",
       "<p>5 rows × 25 columns</p>\n",
       "</div>"
      ],
      "text/plain": [
       "                            uniq_id           crawl_timestamp  \\\n",
       "0  c2d766ca982eca8304150849735ffef9 2016-03-25 22:59:23+00:00   \n",
       "1  7f7036a6d550aaa89d34c77bd39a5e48 2016-03-25 22:59:23+00:00   \n",
       "2  f449ec65dcbc041b6ae5e6a32717d01b 2016-03-25 22:59:23+00:00   \n",
       "3  0973b37acd0c664e3de26e97e5571454 2016-03-25 22:59:23+00:00   \n",
       "4  bc940ea42ee6bef5ac7cea3fb5cfbee7 2016-03-25 22:59:23+00:00   \n",
       "\n",
       "                                         product_url  \\\n",
       "0  http://www.flipkart.com/alisha-solid-women-s-c...   \n",
       "1  http://www.flipkart.com/fabhomedecor-fabric-do...   \n",
       "2  http://www.flipkart.com/aw-bellies/p/itmeh4grg...   \n",
       "3  http://www.flipkart.com/alisha-solid-women-s-c...   \n",
       "4  http://www.flipkart.com/sicons-all-purpose-arn...   \n",
       "\n",
       "                            product_name  \\\n",
       "0    Alisha Solid Women's Cycling Shorts   \n",
       "1    FabHomeDecor Fabric Double Sofa Bed   \n",
       "2                             AW Bellies   \n",
       "3    Alisha Solid Women's Cycling Shorts   \n",
       "4  Sicons All Purpose Arnica Dog Shampoo   \n",
       "\n",
       "                               product_category_tree               pid  \\\n",
       "0  [\"Clothing >> Women's Clothing >> Lingerie, Sl...  SRTEH2FF9KEDEFGF   \n",
       "1  [\"Furniture >> Living Room Furniture >> Sofa B...  SBEEH3QGU7MFYJFY   \n",
       "2  [\"Footwear >> Women's Footwear >> Ballerinas >...  SHOEH4GRSUBJGZXE   \n",
       "3  [\"Clothing >> Women's Clothing >> Lingerie, Sl...  SRTEH2F6HUZMQ6SJ   \n",
       "4  [\"Pet Supplies >> Grooming >> Skin & Coat Care...  PSOEH3ZYDMSYARJ5   \n",
       "\n",
       "   retail_price  discounted_price  \\\n",
       "0         999.0             379.0   \n",
       "1       32157.0           22646.0   \n",
       "2         999.0             499.0   \n",
       "3         699.0             267.0   \n",
       "4         220.0             210.0   \n",
       "\n",
       "                                               image  is_FK_Advantage_product  \\\n",
       "0  [\"http://img5a.flixcart.com/image/short/u/4/a/...                    False   \n",
       "1  [\"http://img6a.flixcart.com/image/sofa-bed/j/f...                    False   \n",
       "2  [\"http://img5a.flixcart.com/image/shoe/7/z/z/r...                    False   \n",
       "3  [\"http://img5a.flixcart.com/image/short/6/2/h/...                    False   \n",
       "4  [\"http://img5a.flixcart.com/image/pet-shampoo/...                    False   \n",
       "\n",
       "   ...        date  year Primary_category       Secondary_category  \\\n",
       "0  ...  2016-03-25  2016      [\"Clothing         Women's Clothing    \n",
       "1  ...  2016-03-25  2016     [\"Furniture    Living Room Furniture    \n",
       "2  ...  2016-03-25  2016      [\"Footwear         Women's Footwear    \n",
       "3  ...  2016-03-25  2016      [\"Clothing         Women's Clothing    \n",
       "4  ...  2016-03-25  2016  [\"Pet Supplies                 Grooming    \n",
       "\n",
       "                 Third_category  \\\n",
       "0   Lingerie, Sleep & Swimwear    \n",
       "1           Sofa Beds & Futons    \n",
       "2                   Ballerinas    \n",
       "3   Lingerie, Sleep & Swimwear    \n",
       "4             Skin & Coat Care    \n",
       "\n",
       "                                              fourth  \\\n",
       "0                                            Shorts    \n",
       "1   FabHomeDecor Fabric Double Sofa Bed (Finish C...   \n",
       "2                                       AW Bellies\"]   \n",
       "3                                            Shorts    \n",
       "4                                           Shampoo    \n",
       "\n",
       "                                               fivth  \\\n",
       "0                                     Alisha Shorts    \n",
       "1                                               None   \n",
       "2                                               None   \n",
       "3                                     Alisha Shorts    \n",
       "4   Sicons All Purpose Arnica Dog Shampoo (500 ml)\"]   \n",
       "\n",
       "                                    sixth seventh eight  \n",
       "0   Alisha Solid Women's Cycling Shorts\"]    None  None  \n",
       "1                                    None    None  None  \n",
       "2                                    None    None  None  \n",
       "3   Alisha Solid Women's Cycling Shorts\"]    None  None  \n",
       "4                                    None    None  None  \n",
       "\n",
       "[5 rows x 25 columns]"
      ]
     },
     "execution_count": 19,
     "metadata": {},
     "output_type": "execute_result"
    }
   ],
   "source": [
    "data.head()"
   ]
  },
  {
   "cell_type": "markdown",
   "metadata": {},
   "source": [
    "Now, Deleting unnecessary columns in dataset. by the help of drop inbuilt function. "
   ]
  },
  {
   "cell_type": "code",
   "execution_count": 20,
   "metadata": {},
   "outputs": [],
   "source": [
    "data.drop(['fourth','fivth','sixth','seventh','eight'] , axis=1, inplace= True)"
   ]
  },
  {
   "cell_type": "code",
   "execution_count": 21,
   "metadata": {
    "scrolled": true
   },
   "outputs": [
    {
     "data": {
      "text/plain": [
       "Index(['uniq_id', 'crawl_timestamp', 'product_url', 'product_name',\n",
       "       'product_category_tree', 'pid', 'retail_price', 'discounted_price',\n",
       "       'image', 'is_FK_Advantage_product', 'description', 'product_rating',\n",
       "       'overall_rating', 'brand', 'product_specifications', 'date', 'year',\n",
       "       'Primary_category', 'Secondary_category', 'Third_category'],\n",
       "      dtype='object')"
      ]
     },
     "execution_count": 21,
     "metadata": {},
     "output_type": "execute_result"
    }
   ],
   "source": [
    "# Checking the columns are delete or not \n",
    "data.columns"
   ]
  },
  {
   "cell_type": "code",
   "execution_count": 22,
   "metadata": {},
   "outputs": [
    {
     "data": {
      "text/plain": [
       "'[\"Clothing '"
      ]
     },
     "execution_count": 22,
     "metadata": {},
     "output_type": "execute_result"
    }
   ],
   "source": [
    "data[\"Primary_category\"][0]"
   ]
  },
  {
   "cell_type": "markdown",
   "metadata": {},
   "source": [
    "We Notice the ‘Primary_category’ column. Every entry starts with a list [] symbol, we’ll need to remove those symbols. we use the ‘apply’ method with lambda functions and remove the symbol by the help of replace method."
   ]
  },
  {
   "cell_type": "code",
   "execution_count": 23,
   "metadata": {},
   "outputs": [],
   "source": [
    "data[\"Primary_category\"] =  data.Primary_category.apply(lambda x: x.replace('[','').replace(']',''))"
   ]
  },
  {
   "cell_type": "code",
   "execution_count": 24,
   "metadata": {},
   "outputs": [
    {
     "data": {
      "text/plain": [
       "'\"Clothing '"
      ]
     },
     "execution_count": 24,
     "metadata": {},
     "output_type": "execute_result"
    }
   ],
   "source": [
    "data[\"Primary_category\"][0]"
   ]
  },
  {
   "cell_type": "markdown",
   "metadata": {},
   "source": [
    "In our dataset, we have only retail price and discounted price. selling price is also important that the amount of a customer pays to buy a product."
   ]
  },
  {
   "cell_type": "code",
   "execution_count": 25,
   "metadata": {},
   "outputs": [],
   "source": [
    "data['selling_price'] = data['retail_price'] - data['discounted_price']"
   ]
  },
  {
   "cell_type": "code",
   "execution_count": 26,
   "metadata": {},
   "outputs": [
    {
     "data": {
      "text/plain": [
       "0     620.0\n",
       "1    9511.0\n",
       "2     500.0\n",
       "3     432.0\n",
       "4      10.0\n",
       "Name: selling_price, dtype: float64"
      ]
     },
     "execution_count": 26,
     "metadata": {},
     "output_type": "execute_result"
    }
   ],
   "source": [
    "data['selling_price'].head()"
   ]
  },
  {
   "cell_type": "markdown",
   "metadata": {},
   "source": [
    "In our dataset, we have retail price,selling price and discounted price.but at the discounted price, we also have to know the percentage of the discount on which product is given. So, by the help of percentage formula we find the discounted percentage."
   ]
  },
  {
   "cell_type": "code",
   "execution_count": 27,
   "metadata": {},
   "outputs": [],
   "source": [
    "data['discounted_percentage'] = round((data['discounted_price']/ data['retail_price']*100))"
   ]
  },
  {
   "cell_type": "code",
   "execution_count": 28,
   "metadata": {},
   "outputs": [
    {
     "data": {
      "text/plain": [
       "0    38.0\n",
       "1    70.0\n",
       "2    50.0\n",
       "3    38.0\n",
       "4    95.0\n",
       "Name: discounted_percentage, dtype: float64"
      ]
     },
     "execution_count": 28,
     "metadata": {},
     "output_type": "execute_result"
    }
   ],
   "source": [
    "# Checking discount percentage column\n",
    "data[\"discounted_percentage\"].head()"
   ]
  },
  {
   "cell_type": "markdown",
   "metadata": {},
   "source": [
    "Now, Our data is ready."
   ]
  },
  {
   "cell_type": "markdown",
   "metadata": {},
   "source": [
    "# Step 3 : Visualize the data"
   ]
  },
  {
   "cell_type": "markdown",
   "metadata": {},
   "source": [
    "Correlation matrices are an essential tool of exploratory data analysis. Correlation heatmaps contain the same information in a visually appealing way.\n",
    "So, by the help of seaborn library, use heatmap function and find correlation of the data by the help of corr() function. "
   ]
  },
  {
   "cell_type": "code",
   "execution_count": 29,
   "metadata": {},
   "outputs": [
    {
     "data": {
      "image/png": "[encoded data removed]",
      "text/plain": [
       "<Figure size 1080x576 with 2 Axes>"
      ]
     },
     "metadata": {
      "needs_background": "light"
     },
     "output_type": "display_data"
    }
   ],
   "source": [
    "plt.figure(figsize= (15,8))\n",
    "sns.heatmap(data.corr(), annot= True , linewidths=0.5,center=0, cmap='BrBG')\n",
    "plt.title(\"Correlation Heatmap\", fontsize = 25)\n",
    "plt.show()"
   ]
  },
  {
   "cell_type": "markdown",
   "metadata": {},
   "source": [
    "Heatmap show that stronger correlation of the spectrum pops out in darker, weaker correlation in lighter shades.\n"
   ]
  },
  {
   "cell_type": "markdown",
   "metadata": {},
   "source": [
    ".  "
   ]
  },
  {
   "cell_type": "markdown",
   "metadata": {},
   "source": [
    "Now, we plot the product in each year. "
   ]
  },
  {
   "cell_type": "code",
   "execution_count": 30,
   "metadata": {},
   "outputs": [],
   "source": [
    "# getting launch dates for each product\n",
    "launchDates = data[\"year\"]\n",
    "uniqueDates = set(launchDates.copy())"
   ]
  },
  {
   "cell_type": "code",
   "execution_count": 31,
   "metadata": {},
   "outputs": [],
   "source": [
    "noOfProducts = []\n",
    "for i in uniqueDates:\n",
    "    noOfProducts.append( len( [j for j in launchDates if j == i] ) )"
   ]
  },
  {
   "cell_type": "code",
   "execution_count": 32,
   "metadata": {},
   "outputs": [
    {
     "data": {
      "image/png": "[encoded data removed]",
      "text/plain": [
       "<Figure size 576x576 with 1 Axes>"
      ]
     },
     "metadata": {},
     "output_type": "display_data"
    }
   ],
   "source": [
    "plt.figure(figsize=(8,8))\n",
    "plt.pie(noOfProducts, labels=uniqueDates, autopct='%1.2f%%')\n",
    "plt.title('Products in each Year')\n",
    "plt.show()"
   ]
  },
  {
   "cell_type": "markdown",
   "metadata": {},
   "source": [
    "From above plot show that 51.58% products launch in 2015 & 48.42% products in 2016."
   ]
  },
  {
   "cell_type": "code",
   "execution_count": 34,
   "metadata": {},
   "outputs": [],
   "source": [
    "# Price Distribution\n",
    "price = list(data[\"retail_price\"])\n",
    "price.sort()"
   ]
  },
  {
   "cell_type": "code",
   "execution_count": 42,
   "metadata": {
    "scrolled": true
   },
   "outputs": [
    {
     "data": {
      "image/png": "[encoded data removed]",
      "text/plain": [
       "<Figure size 576x288 with 1 Axes>"
      ]
     },
     "metadata": {
      "needs_background": "light"
     },
     "output_type": "display_data"
    }
   ],
   "source": [
    "plt.figure(figsize=(8,4))\n",
    "plt.plot(price)\n",
    "plt.title('Price Distribution', fontsize = 20)\n",
    "plt.show()"
   ]
  },
  {
   "cell_type": "markdown",
   "metadata": {},
   "source": [
    "."
   ]
  },
  {
   "cell_type": "markdown",
   "metadata": {},
   "source": [
    "Now, we plot 10 most popular categories or categories with most number of items"
   ]
  },
  {
   "cell_type": "code",
   "execution_count": 43,
   "metadata": {},
   "outputs": [],
   "source": [
    "# cleaning Primary Category for replace some unnecessary character \n",
    "cat = list(data[\"Primary_category\"])\n",
    "cat = [i.replace(\"\\\"\", \"\").replace(\"]\", \"\") for i in cat]"
   ]
  },
  {
   "cell_type": "code",
   "execution_count": 44,
   "metadata": {},
   "outputs": [],
   "source": [
    "uniqueCat = set(cat)\n",
    "countCat = []\n",
    "for i in uniqueCat:\n",
    "    countCat.append([i, len([ j for j in cat if j == i ])])"
   ]
  },
  {
   "cell_type": "code",
   "execution_count": 45,
   "metadata": {},
   "outputs": [],
   "source": [
    "countCat = pd.DataFrame(countCat)\n",
    "countCat = countCat.sort_values(by=[1])"
   ]
  },
  {
   "cell_type": "code",
   "execution_count": 46,
   "metadata": {},
   "outputs": [],
   "source": [
    "# 10 most popular categories or categories with most number of items\n",
    "topTen = countCat.iloc[-10:]"
   ]
  },
  {
   "cell_type": "code",
   "execution_count": 47,
   "metadata": {},
   "outputs": [
    {
     "data": {
      "image/png": "[encoded data removed]",
      "text/plain": [
       "<Figure size 1800x576 with 1 Axes>"
      ]
     },
     "metadata": {
      "needs_background": "light"
     },
     "output_type": "display_data"
    }
   ],
   "source": [
    "plt.figure(figsize=(25,8))\n",
    "sns.barplot(topTen[0], topTen[1])\n",
    "plt.title(\"Top 10 most popular categories\", fontsize = 30)\n",
    "plt.xlabel(\"categories\" , fontsize= 15 )\n",
    "plt.xticks(rotation = 20, fontsize = 12)\n",
    "plt.show()"
   ]
  },
  {
   "cell_type": "markdown",
   "metadata": {},
   "source": [
    "."
   ]
  },
  {
   "cell_type": "markdown",
   "metadata": {},
   "source": [
    "Now, we plot brands with most products."
   ]
  },
  {
   "cell_type": "code",
   "execution_count": 48,
   "metadata": {},
   "outputs": [],
   "source": [
    "# brands with most products\n",
    "brands = data[\"brand\"]\n",
    "brands = list(brands[brands != \"missing\"])"
   ]
  },
  {
   "cell_type": "code",
   "execution_count": 49,
   "metadata": {},
   "outputs": [],
   "source": [
    "uniqueBrands = set(brands)\n",
    "countBrands = []\n",
    "for i in uniqueBrands:\n",
    "    countBrands.append( [ i, len([j for j in brands if j == i]) ] )"
   ]
  },
  {
   "cell_type": "code",
   "execution_count": 50,
   "metadata": {},
   "outputs": [],
   "source": [
    "countBrands = pd.DataFrame(countBrands)\n",
    "countBrands = countBrands.sort_values(by=[1])"
   ]
  },
  {
   "cell_type": "code",
   "execution_count": 51,
   "metadata": {},
   "outputs": [],
   "source": [
    "# 10 brands with most probucts\n",
    "topTen = countBrands.iloc[-10:]"
   ]
  },
  {
   "cell_type": "code",
   "execution_count": 52,
   "metadata": {},
   "outputs": [
    {
     "data": {
      "image/png": "[encoded data removed]",
      "text/plain": [
       "<Figure size 1440x576 with 1 Axes>"
      ]
     },
     "metadata": {
      "needs_background": "light"
     },
     "output_type": "display_data"
    }
   ],
   "source": [
    "plt.figure(figsize=(20,8))\n",
    "sns.barplot(topTen[0], topTen[1])\n",
    "plt.show()"
   ]
  },
  {
   "cell_type": "code",
   "execution_count": 53,
   "metadata": {},
   "outputs": [],
   "source": [
    "# Brands with least average discount\n",
    "dis = data[[\"discounted_percentage\", \"brand\"]]"
   ]
  },
  {
   "cell_type": "code",
   "execution_count": 54,
   "metadata": {},
   "outputs": [],
   "source": [
    "# uniqueBrands\n",
    "avgDisc = []\n",
    "for i in uniqueBrands:\n",
    "    x = dis[dis[\"brand\"] == i][\"discounted_percentage\"]\n",
    "    avgDisc.append( [i, sum(x)/len(x)])"
   ]
  },
  {
   "cell_type": "code",
   "execution_count": 55,
   "metadata": {},
   "outputs": [],
   "source": [
    "avgDisc = pd.DataFrame(avgDisc)\n",
    "avgDisc = avgDisc.sort_values(by=[1])"
   ]
  },
  {
   "cell_type": "code",
   "execution_count": 56,
   "metadata": {},
   "outputs": [],
   "source": [
    "# TOP 20 companies with least discount\n",
    "plotData = avgDisc[:20]"
   ]
  },
  {
   "cell_type": "code",
   "execution_count": 57,
   "metadata": {},
   "outputs": [
    {
     "data": {
      "image/png": "[encoded data removed]",
      "text/plain": [
       "<Figure size 1800x576 with 1 Axes>"
      ]
     },
     "metadata": {
      "needs_background": "light"
     },
     "output_type": "display_data"
    }
   ],
   "source": [
    "plt.figure(figsize=(25,8))\n",
    "sns.barplot(plotData[0], plotData[1], palette= 'tab20')\n",
    "plt.title(\"Top 20 companies with least discount\", fontsize = 25)\n",
    "plt.xlabel(\"Companies\", fontsize=15)\n",
    "plt.xticks(rotation = 90, fontsize = 12)\n",
    "plt.show()"
   ]
  },
  {
   "cell_type": "markdown",
   "metadata": {},
   "source": [
    "."
   ]
  },
  {
   "cell_type": "markdown",
   "metadata": {},
   "source": [
    "Top 5 most common brand names "
   ]
  },
  {
   "cell_type": "code",
   "execution_count": 59,
   "metadata": {},
   "outputs": [
    {
     "data": {
      "text/plain": [
       "missing         5847\n",
       "Allure Auto      468\n",
       "Regular          308\n",
       "Voylla           299\n",
       "Slim             284\n",
       "TheLostPuppy     229\n",
       "Name: brand, dtype: int64"
      ]
     },
     "execution_count": 59,
     "metadata": {},
     "output_type": "execute_result"
    }
   ],
   "source": [
    "# Top 5 most brands\n",
    "data[\"brand\"].value_counts()[:6]"
   ]
  },
  {
   "cell_type": "markdown",
   "metadata": {},
   "source": [
    "Observation : \n",
    "1. 5847 brand are missing. so we are not consider it\n",
    "2. Allure Auto is the highest. \n",
    "3. Now, we plot it. by the help of seaborn library use countplot function than plot it. "
   ]
  },
  {
   "cell_type": "code",
   "execution_count": 60,
   "metadata": {},
   "outputs": [
    {
     "data": {
      "image/png": "[encoded data removed]",
      "text/plain": [
       "<Figure size 864x576 with 1 Axes>"
      ]
     },
     "metadata": {
      "needs_background": "light"
     },
     "output_type": "display_data"
    }
   ],
   "source": [
    "plt.figure(figsize=(12,8))\n",
    "sns.countplot(data[\"brand\"][:5])\n",
    "plt.title(\"Top 5 most common brand\" , fontsize = 30 )\n",
    "plt.xlabel(\"brand\", fontsize = 15)\n",
    "plt.ylabel(\"freqency\", fontsize = 15)\n",
    "plt.xticks(rotation = 0)\n",
    "plt.show()"
   ]
  },
  {
   "cell_type": "markdown",
   "metadata": {},
   "source": [
    "."
   ]
  },
  {
   "cell_type": "markdown",
   "metadata": {},
   "source": [
    "# Step 4. Predict the Product category"
   ]
  },
  {
   "cell_type": "markdown",
   "metadata": {},
   "source": [
    "Preprocessing"
   ]
  },
  {
   "cell_type": "markdown",
   "metadata": {},
   "source": [
    "brand and Secondary_category is in string format so first we convert a brand column to encoded variable to a new column & then Secondary_category to encoded variable to a new column."
   ]
  },
  {
   "cell_type": "code",
   "execution_count": 61,
   "metadata": {},
   "outputs": [],
   "source": [
    "# First we convert the format of brand from object to category \n",
    "data[\"brand\"] = data[\"brand\"].astype('category')"
   ]
  },
  {
   "cell_type": "code",
   "execution_count": 62,
   "metadata": {},
   "outputs": [],
   "source": [
    "# then we use cat.codes function to convert the categorical values to encode variable\n",
    "data[\"brand_encode\"] = data[\"brand\"].cat.codes"
   ]
  },
  {
   "cell_type": "code",
   "execution_count": 63,
   "metadata": {
    "scrolled": true
   },
   "outputs": [
    {
     "data": {
      "text/plain": [
       "0     163\n",
       "1     915\n",
       "2      70\n",
       "3     163\n",
       "4    2652\n",
       "Name: brand_encode, dtype: int16"
      ]
     },
     "execution_count": 63,
     "metadata": {},
     "output_type": "execute_result"
    }
   ],
   "source": [
    "# Now brand is encoded\n",
    "data[\"brand_encode\"].head()"
   ]
  },
  {
   "cell_type": "code",
   "execution_count": 64,
   "metadata": {},
   "outputs": [],
   "source": [
    "data[\"Secondary_category\"] = data[\"Secondary_category\"].astype('category')"
   ]
  },
  {
   "cell_type": "code",
   "execution_count": 65,
   "metadata": {},
   "outputs": [],
   "source": [
    "data[\"product_category_encode\"] = data[\"Secondary_category\"].cat.codes"
   ]
  },
  {
   "cell_type": "code",
   "execution_count": 66,
   "metadata": {},
   "outputs": [
    {
     "data": {
      "text/plain": [
       "0    214\n",
       "1    126\n",
       "2    215\n",
       "Name: product_category_encode, dtype: int16"
      ]
     },
     "execution_count": 66,
     "metadata": {},
     "output_type": "execute_result"
    }
   ],
   "source": [
    "data[\"product_category_encode\"].head(3)"
   ]
  },
  {
   "cell_type": "markdown",
   "metadata": {},
   "source": [
    "The next step is to split our dataset into its attributes and labels.\n",
    "\n",
    "The x variable contains the three columns of the dataset while y contains the labels. \n",
    "x contains retails price, discounted percentage & brand_encode while y contains product category encode."
   ]
  },
  {
   "cell_type": "code",
   "execution_count": 67,
   "metadata": {},
   "outputs": [],
   "source": [
    "# using product_category_encode as labels to classify => y\n",
    "# retail_price, discounted_percentage, brand_encode as input data => x\n",
    "df = data[[\"retail_price\", \"discounted_percentage\", \"brand_encode\", \"product_category_encode\"]]\n",
    "df = df.dropna()\n",
    "x = data[[\"retail_price\", \"discounted_percentage\", \"brand_encode\"]]\n",
    "y = data[\"product_category_encode\"]"
   ]
  },
  {
   "cell_type": "code",
   "execution_count": 68,
   "metadata": {},
   "outputs": [],
   "source": [
    "# x.head()\n",
    "# y.head()\n",
    "TrainAcc = []\n",
    "TestAcc = []"
   ]
  },
  {
   "cell_type": "markdown",
   "metadata": {},
   "source": [
    "Train Test split"
   ]
  },
  {
   "cell_type": "markdown",
   "metadata": {},
   "source": [
    "To avoid over-fitting, we'll divide our dataset into training and test splits, which gives us a better idea as to how our algorithm performed during the testing phase. This way our algorithm is tested on un-seen data. So, by the help of sklearn library we use train_test_split function. we splits the dataset into 70% train data and 30% test data."
   ]
  },
  {
   "cell_type": "code",
   "execution_count": 69,
   "metadata": {},
   "outputs": [],
   "source": [
    "X_train, X_test, y_train, y_test = train_test_split(x, y, test_size=0.3)"
   ]
  },
  {
   "cell_type": "markdown",
   "metadata": {},
   "source": [
    "First we use KNN algorithm, it is extremely straight forward to train the KNN algorithm. The first step is to import the KNeighborsClassifier class from the sklearn.neighbors library."
   ]
  },
  {
   "cell_type": "code",
   "execution_count": 70,
   "metadata": {},
   "outputs": [],
   "source": [
    "# KNN\n",
    "knn = KNeighborsClassifier()"
   ]
  },
  {
   "cell_type": "code",
   "execution_count": 71,
   "metadata": {},
   "outputs": [
    {
     "data": {
      "text/plain": [
       "KNeighborsClassifier()"
      ]
     },
     "execution_count": 71,
     "metadata": {},
     "output_type": "execute_result"
    }
   ],
   "source": [
    "knn.fit(X_train, y_train)"
   ]
  },
  {
   "cell_type": "markdown",
   "metadata": {},
   "source": [
    "Now, we check the accuracy of KNN classifier on training & test set. The score() method allows us to calculate the mean accuracy for the data. So, by the help of score method, we'll find the accuracy."
   ]
  },
  {
   "cell_type": "code",
   "execution_count": 72,
   "metadata": {},
   "outputs": [
    {
     "name": "stdout",
     "output_type": "stream",
     "text": [
      "Accuracy of K-NN classifier on training set => 0.6423598650685423\n",
      "Accuracy of K-NN classifier on test set     => 0.5279638312123242\n"
     ]
    }
   ],
   "source": [
    "a = knn.score(X_train, y_train)\n",
    "b = knn.score(X_test, y_test)\n",
    "TrainAcc.append(a)\n",
    "TestAcc.append(b)\n",
    "print(f\"Accuracy of K-NN classifier on training set => { a }\")\n",
    "print(f\"Accuracy of K-NN classifier on test set     => { b }\") "
   ]
  },
  {
   "cell_type": "markdown",
   "metadata": {},
   "source": [
    "Observation:\n",
    "In above code we use kNN method to find the accuracy of our train & test data. The accuracy of training set is 0.65 & test set is 0.52. So, it show the low accuracy which is not good. "
   ]
  },
  {
   "cell_type": "markdown",
   "metadata": {},
   "source": [
    "Now, We use another method to find high accuracy."
   ]
  },
  {
   "cell_type": "markdown",
   "metadata": {},
   "source": [
    "We use decision tree, this method is used for classfication & regression. The first step is to import the DecisionTreeClassifier & takes as input X_train and y_train."
   ]
  },
  {
   "cell_type": "code",
   "execution_count": 73,
   "metadata": {},
   "outputs": [],
   "source": [
    "# USING DECISION TREE\n",
    "clf = DecisionTreeClassifier().fit(X_train, y_train)"
   ]
  },
  {
   "cell_type": "code",
   "execution_count": 74,
   "metadata": {},
   "outputs": [
    {
     "name": "stdout",
     "output_type": "stream",
     "text": [
      "Accuracy of Decision Tree classifier on training set => 0.9385631235197014\n",
      "Accuracy of Decision Tree classifier on test set => 0.6445077026121903\n"
     ]
    }
   ],
   "source": [
    "a = clf.score(X_train, y_train)\n",
    "b = clf.score(X_test, y_test)\n",
    "TrainAcc.append(a)\n",
    "TestAcc.append(b)\n",
    "print(f\"Accuracy of Decision Tree classifier on training set => { a }\")\n",
    "print(f\"Accuracy of Decision Tree classifier on test set => { b }\")"
   ]
  },
  {
   "cell_type": "markdown",
   "metadata": {},
   "source": [
    "Observation: In above code we use decision tree to find the accuracy of our train & test data. The accuracy of training set is 0.93 & test set is 0.64. So, it show the high accuracy which is good."
   ]
  },
  {
   "cell_type": "markdown",
   "metadata": {},
   "source": [
    "Now, we use the another method to improve the accuracy."
   ]
  },
  {
   "cell_type": "markdown",
   "metadata": {},
   "source": [
    "We use Gaussian Naive Bayes method to find the accuracy of our train & test data. The first step to import the GaussianNB() for classification & takes as input X_train and y_train."
   ]
  },
  {
   "cell_type": "code",
   "execution_count": 75,
   "metadata": {},
   "outputs": [
    {
     "data": {
      "text/plain": [
       "GaussianNB()"
      ]
     },
     "execution_count": 75,
     "metadata": {},
     "output_type": "execute_result"
    }
   ],
   "source": [
    "# USING Gaussian Naive Bayes\n",
    "gnb = GaussianNB()\n",
    "gnb.fit(X_train, y_train)"
   ]
  },
  {
   "cell_type": "code",
   "execution_count": 76,
   "metadata": {
    "scrolled": true
   },
   "outputs": [
    {
     "name": "stdout",
     "output_type": "stream",
     "text": [
      "Accuracy of GNB classifier on training set => 0.24244599153089788\n",
      "Accuracy of GNB classifier on test set => 0.22940388479571333\n"
     ]
    }
   ],
   "source": [
    "a = gnb.score(X_train, y_train)\n",
    "b =  gnb.score(X_test, y_test)\n",
    "TrainAcc.append(a)\n",
    "TestAcc.append(b)\n",
    "print(f\"Accuracy of GNB classifier on training set => { a }\")\n",
    "print(f\"Accuracy of GNB classifier on test set => { b }\")"
   ]
  },
  {
   "cell_type": "markdown",
   "metadata": {},
   "source": [
    "Observation: In above code we use Gaussian Naive Bayes to find the accuracy of our train & test data. The accuracy of training set is 0.24 & test set is 0.22. So, it show very low accuracy which is not good."
   ]
  },
  {
   "cell_type": "markdown",
   "metadata": {},
   "source": [
    "Now, we plot the graph to show the comparsion of different method to find accuracy & which one of the following has the highest accuracy."
   ]
  },
  {
   "cell_type": "markdown",
   "metadata": {},
   "source": [
    "1. TrainAcc = It show the accuracy of all train dataset in different method.\n",
    "2. TestAcc  = It show the accuracy of all test dataset in different method."
   ]
  },
  {
   "cell_type": "code",
   "execution_count": 77,
   "metadata": {},
   "outputs": [
    {
     "data": {
      "text/plain": [
       "[[0.6423598650685423, 0.9385631235197014, 0.24244599153089788],\n",
       " [0.5279638312123242, 0.6445077026121903, 0.22940388479571333]]"
      ]
     },
     "execution_count": 77,
     "metadata": {},
     "output_type": "execute_result"
    }
   ],
   "source": [
    "[TrainAcc, TestAcc]"
   ]
  },
  {
   "cell_type": "markdown",
   "metadata": {},
   "source": [
    "With the help of TrainAcc & TestAcc, we plot the bar graph to show the highest accuracy. "
   ]
  },
  {
   "cell_type": "code",
   "execution_count": 78,
   "metadata": {},
   "outputs": [
    {
     "data": {
      "image/png": "[encoded data removed]",
      "text/plain": [
       "<Figure size 864x432 with 1 Axes>"
      ]
     },
     "metadata": {
      "needs_background": "light"
     },
     "output_type": "display_data"
    }
   ],
   "source": [
    "labels = [\"KNN\", \"DecisonTree\", \"NaiveBayes\"]\n",
    "\n",
    "plt.figure(figsize=(12,6))\n",
    "plt.bar(labels, TrainAcc, label=\"Train Accuracy\")\n",
    "plt.bar(labels, TestAcc, label=\"Test Accuracy\")\n",
    "\n",
    "plt.legend()\n",
    "\n",
    "plt.show()"
   ]
  },
  {
   "cell_type": "markdown",
   "metadata": {},
   "source": [
    "Conclusion : \n",
    "From above graph show that Decison tree has high accuracy than knn & NaiveBayes. "
   ]
  },
  {
   "cell_type": "code",
   "execution_count": null,
   "metadata": {},
   "outputs": [],
   "source": []
  }
 ],
 "metadata": {
  "kernelspec": {
   "display_name": "Python 3",
   "language": "python",
   "name": "python3"
  },
  "language_info": {
   "codemirror_mode": {
    "name": "ipython",
    "version": 3
   },
   "file_extension": ".py",
   "mimetype": "text/x-python",
   "name": "python",
   "nbconvert_exporter": "python",
   "pygments_lexer": "ipython3",
   "version": "3.9.1"
  }
 },
 "nbformat": 4,
 "nbformat_minor": 4
}
